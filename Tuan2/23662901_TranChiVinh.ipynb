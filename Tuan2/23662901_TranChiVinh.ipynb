{
 "cells": [
  {
   "cell_type": "code",
   "execution_count": null,
   "id": "cfd9338f",
   "metadata": {},
   "outputs": [],
   "source": [
    "import numpy as np\n",
    "import pandas as pd\n",
    "import matplotlib.pyplot as plt\n",
    "import random"
   ]
  },
  {
   "cell_type": "code",
   "execution_count": null,
   "id": "3c6a0ad7",
   "metadata": {},
   "outputs": [],
   "source": [
    "\n",
    "# 1. Đọc file CSV từ thư mục dữ liệu\n",
    "df = pd.read_csv('orginal_sales_data_edit.csv')\n",
    "df"
   ]
  },
  {
   "cell_type": "code",
   "execution_count": null,
   "id": "655bb292",
   "metadata": {},
   "outputs": [],
   "source": [
    "# 2. Đọc file CSV với tùy chọn mặc định và hiển thị 5 dòng đầu tiên\n",
    "df = pd.read_csv('orginal_sales_data_edit.csv')\n",
    "print(df.head(5))"
   ]
  },
  {
   "cell_type": "code",
   "execution_count": null,
   "id": "43f58f12",
   "metadata": {},
   "outputs": [],
   "source": [
    "# 3. Hiển thị 5 dòng dữ liệu cuối cùng\n",
    "df.tail(5)\n"
   ]
  },
  {
   "cell_type": "code",
   "execution_count": null,
   "id": "e930d19a",
   "metadata": {},
   "outputs": [],
   "source": [
    "print(type(df[\"YEAR_ID\"]))"
   ]
  },
  {
   "cell_type": "code",
   "execution_count": null,
   "id": "7063f6e4",
   "metadata": {},
   "outputs": [],
   "source": [
    "# 4. Chuyển kiểu dữ liệu của cột \"YEAR_ID\" sang int32\n",
    "df[\"YEAR_ID\"] = df[\"YEAR_ID\"].astype(\"int32\")\n",
    "print(df.head(5))"
   ]
  },
  {
   "cell_type": "code",
   "execution_count": null,
   "id": "176f5a15",
   "metadata": {},
   "outputs": [],
   "source": [
    "# 5. Xem chiều dài (số dòng) của dataframe\n",
    "print('Số dòng:', len(df))"
   ]
  },
  {
   "cell_type": "code",
   "execution_count": null,
   "id": "be33cac8",
   "metadata": {},
   "outputs": [],
   "source": [
    "# 6. Xem thông tin tổng quan về dataframe\n",
    "df.info()"
   ]
  },
  {
   "cell_type": "code",
   "execution_count": null,
   "id": "834fb82e",
   "metadata": {},
   "outputs": [],
   "source": [
    "# 7. Xem kích thước của dataframe (số dòng, số cột)\n",
    "print('Kích thước:', df.shape)"
   ]
  },
  {
   "cell_type": "code",
   "execution_count": null,
   "id": "afc2314b",
   "metadata": {},
   "outputs": [],
   "source": [
    "# 8. Hiển thị dữ liệu của cột thứ 10\n",
    "print(df['PRODUCTLINE'])"
   ]
  },
  {
   "cell_type": "code",
   "execution_count": null,
   "id": "865eaf21",
   "metadata": {},
   "outputs": [],
   "source": [
    "# 9. Hiển thị dữ liệu của các cột thứ 1,2,3,5,6\n",
    "print(df[['ORDERNUMBER', 'QUANTITYORDERED','SALES',  'PRICEEACH', 'PRODUCTLINE']])"
   ]
  },
  {
   "cell_type": "code",
   "execution_count": null,
   "id": "b11f394b",
   "metadata": {},
   "outputs": [],
   "source": [
    "# 10. Hiển thị 5 dòng dữ liệu đầu tiên của các cột thứ 1,2,3,5,6\n",
    "print(df[['ORDERNUMBER', 'QUANTITYORDERED', 'PRICEEACH', 'PRODUCTLINE']].head(5))"
   ]
  },
  {
   "cell_type": "code",
   "execution_count": null,
   "id": "ef7f95a9",
   "metadata": {},
   "outputs": [],
   "source": [
    "# 11. Hiển thị 5 dòng đầu tiên theo chỉ số vị trí\n",
    "print(df[0:5])"
   ]
  },
  {
   "cell_type": "code",
   "execution_count": null,
   "id": "fd87268d",
   "metadata": {},
   "outputs": [],
   "source": [
    "# 12. Hiển thị 5 dòng đầu tiên theo chỉ số vị trí với các cột 1,2,3,5,6\n",
    "print(df[['ORDERNUMBER', 'QUANTITYORDERED', 'PRICEEACH', 'PRODUCTLINE']][0:5])"
   ]
  },
  {
   "cell_type": "code",
   "execution_count": null,
   "id": "0fed2f77",
   "metadata": {},
   "outputs": [],
   "source": [
    "# 13. Loại bỏ các dòng trùng lặp trong dataframe\n",
    "df.drop_duplicates(inplace=True)\n",
    "print(df)"
   ]
  },
  {
   "cell_type": "code",
   "execution_count": null,
   "id": "47a31b15",
   "metadata": {},
   "outputs": [],
   "source": [
    "# 15. Loại bỏ các dòng có dữ liệu của cột 'ADDRESSLINE2' bị trống\n",
    "# Có 2823 dòng bị trống, giữ lại 2521 dòng có dữ liệu\n",
    "df['ADDRESSLINE2'].isna().sum()  # Kiểm tra số dòng trống\n"
   ]
  },
  {
   "cell_type": "code",
   "execution_count": null,
   "id": "aa1f27ea",
   "metadata": {},
   "outputs": [],
   "source": [
    "# 16. Thay các giá trị Unknown trong cột 'ADDRESSLINE2' bằng giá trị mặc định\n",
    "# Có 2521 dòng chứa giá trị Unknown được thay thế\n",
    "df['ADDRESSLINE2'].fillna('Unknown', inplace=True)\n",
    "df['ADDRESSLINE2'].isna().sum()  # Kiểm tra lại số dòng trống sau khi thay thế\n",
    "print(df)"
   ]
  },
  {
   "cell_type": "code",
   "execution_count": null,
   "id": "aa29b646",
   "metadata": {},
   "outputs": [],
   "source": [
    "# 17. Lấy dữ liệu của cột 'QUANTITYORDERED' dưới dạng chuỗi (Series)\n",
    "print(df['QUANTITYORDERED'])"
   ]
  },
  {
   "cell_type": "code",
   "execution_count": null,
   "id": "115674ff",
   "metadata": {},
   "outputs": [],
   "source": [
    "# 18. Lấy dữ liệu của cột 'QUANTITYORDERED' dưới dạng mảng (numpy array)\n",
    "print(df['QUANTITYORDERED'].values)"
   ]
  },
  {
   "cell_type": "code",
   "execution_count": null,
   "id": "404ec9a9",
   "metadata": {},
   "outputs": [],
   "source": [
    "# 19 & 20. Lấy dữ liệu từ dòng số 4 đến dòng số 9 (chỉ số 4 đến 9, không bao gồm 10)\n",
    "print(df[4:10])"
   ]
  },
  {
   "cell_type": "code",
   "execution_count": null,
   "id": "bdb2ac8d",
   "metadata": {},
   "outputs": [],
   "source": [
    "# 21. Đọc dữ liệu từ dòng số 4 đến dòng số 9 sử dụng loc và iloc\n",
    "print(df.loc[4:10])  # loc lấy dữ liệu từ 4 đến 10 (bao gồm 10)\n",
    "print(df.iloc[4:10])  # iloc lấy dữ liệu từ 4 đến 9 (không bao gồm 10)\n",
    "\n"
   ]
  },
  {
   "cell_type": "code",
   "execution_count": null,
   "id": "1af7edf7",
   "metadata": {},
   "outputs": [],
   "source": [
    "# 22. Lấy thông tin tại dòng có chỉ số là 2\n",
    "print(df.loc[2])\n",
    "\n"
   ]
  },
  {
   "cell_type": "code",
   "execution_count": null,
   "id": "496a4c6f",
   "metadata": {},
   "outputs": [],
   "source": [
    "# 23. Lấy thông tin từ dòng 4 đến 10 của một số cột ('QUANTITYORDERED', 'SALES')\n",
    "print(df.loc[4:10, ['QUANTITYORDERED', 'SALES']])\n",
    "\n"
   ]
  },
  {
   "cell_type": "code",
   "execution_count": null,
   "id": "9f20ab98",
   "metadata": {},
   "outputs": [],
   "source": [
    "# 24. Lấy thông tin từ dòng 2 đến 9, từ cột 4 đến 7 (sử dụng iloc)\n",
    "print(df.iloc[2:9, 4:7])\n",
    "\n"
   ]
  },
  {
   "cell_type": "code",
   "execution_count": null,
   "id": "b0223a26",
   "metadata": {},
   "outputs": [],
   "source": [
    "# 25. Lấy dữ liệu tại chỉ số (index) là 2\n",
    "print(df.iloc[2])\n",
    "\n"
   ]
  },
  {
   "cell_type": "code",
   "execution_count": null,
   "id": "97fce81d",
   "metadata": {},
   "outputs": [],
   "source": [
    "# 26. Lấy dữ liệu từ dòng đầu tiên đến dòng số 9 (dùng iloc)\n",
    "print(df.iloc[:10])\n",
    "\n"
   ]
  },
  {
   "cell_type": "code",
   "execution_count": null,
   "id": "22bc8690",
   "metadata": {},
   "outputs": [],
   "source": [
    "# 27. Lấy dữ liệu từ dòng đầu tiên đến dòng số 9, các cột từ cột 4 đến 7 (dùng iloc)\n",
    "print(df.iloc[:10, 4:7])\n",
    "\n"
   ]
  },
  {
   "cell_type": "code",
   "execution_count": null,
   "id": "976d9317",
   "metadata": {},
   "outputs": [],
   "source": [
    "# 28. Sắp xếp dữ liệu theo cột 'SALES' theo thứ tự tăng dần\n",
    "print(df.sort_values(by='SALES', ascending=True))"
   ]
  },
  {
   "cell_type": "code",
   "execution_count": null,
   "id": "9f5d7718",
   "metadata": {},
   "outputs": [],
   "source": [
    "# 29. Sắp xếp dữ liệu theo nhiều tiêu chí: 'QUANTITYORDERED' tăng dần, 'PRICEEACH' giảm dần\n",
    "print(df.sort_values(by=['QUANTITYORDERED', 'PRICEEACH'], ascending=[True, False]))"
   ]
  },
  {
   "cell_type": "code",
   "execution_count": null,
   "id": "49df6028",
   "metadata": {},
   "outputs": [],
   "source": [
    "# 30. Lọc dữ liệu theo điều kiện 'SALES' > 5000\n",
    "print(df[df['SALES'] > 5000])\n",
    "print('Cách 2')\n",
    "print(df.loc[df['SALES'] > 5000])"
   ]
  },
  {
   "cell_type": "code",
   "execution_count": null,
   "id": "13a4c661",
   "metadata": {},
   "outputs": [],
   "source": [
    "# 31. Lọc dữ liệu theo nhiều điều kiện: 'SALES' > 5000 và 'QUANTITYORDERED' > 40\n",
    "df_filtered = df[(df['SALES'] > 5000) & (df['QUANTITYORDERED'] > 40)]\n",
    "print(df_filtered)"
   ]
  },
  {
   "cell_type": "code",
   "execution_count": null,
   "id": "150a416f",
   "metadata": {},
   "outputs": [],
   "source": [
    "# 32. Lọc giá trị và gán điều kiện dùng loc\n",
    "df.loc[df['PRICEEACH'] >= 65, 'FLAG'] = 'EXPENSIVE'\n",
    "df.loc[df['PRICEEACH'] < 65, 'FLAG'] = 'CHEAP'\n",
    "print(df[['PRICEEACH', 'FLAG']].head(50))"
   ]
  },
  {
   "cell_type": "code",
   "execution_count": null,
   "id": "42f785af",
   "metadata": {},
   "outputs": [],
   "source": [
    "# 33. Viết hàm trả về giá trị theo nhiều điều kiện và áp dụng hàm gán giá trị cho 1 cột\n",
    "def foo(x):\n",
    "    if x < 10:\n",
    "        return 'BAD'\n",
    "    elif 10 <= x < 50:\n",
    "        return 'GOOD'\n",
    "    else:\n",
    "        return 'EXCELLENT'\n",
    "\n",
    "df['WORTH'] = df['QUANTITYORDERED'].apply(foo)\n",
    "print(df[['QUANTITYORDERED', 'WORTH']])"
   ]
  },
  {
   "cell_type": "code",
   "execution_count": null,
   "id": "a0a1cc35",
   "metadata": {},
   "outputs": [],
   "source": [
    "# 34. Ánh xạ giá trị tới 1 cột bằng dictionary\n",
    "dict_map1 = {1: 'Qui_1', 2: 'Qui_2', 3: 'Qui_3', 4: 'Qui_4'}\n",
    "df['QTR_ID'] = df['QTR_ID'].map(dict_map1)\n",
    "print(df['QTR_ID'])"
   ]
  },
  {
   "cell_type": "code",
   "execution_count": null,
   "id": "5379e5c4",
   "metadata": {},
   "outputs": [],
   "source": [
    "# 35. Lấy những dòng dữ liệu theo 1 điều kiện nào đó\n",
    "df_filtered_2003 = df[['QUANTITYORDERED', 'PRICEEACH']].loc[df['YEAR_ID'] == 2003]\n",
    "print(df_filtered_2003)"
   ]
  },
  {
   "cell_type": "code",
   "execution_count": null,
   "id": "b0fa7397",
   "metadata": {},
   "outputs": [],
   "source": [
    "# 36. Hiển thị các bản ghi có số lượng lớn hơn 25\n",
    "df_more_25 = df[df['QUANTITYORDERED'] > 25]\n",
    "print(\"Hiển thị 5 dòng đầu:\")\n",
    "print(df_more_25.head(5))"
   ]
  },
  {
   "cell_type": "code",
   "execution_count": null,
   "id": "b3e33ab1",
   "metadata": {},
   "outputs": [],
   "source": [
    "# 37. Hiển thị các hoá đơn đã được giao (trạng thái 'Shipped')\n",
    "df_shipped = df[df['STATUS'] == 'Shipped']\n",
    "print(df_shipped.head(10))"
   ]
  },
  {
   "cell_type": "code",
   "execution_count": null,
   "id": "bfae0365",
   "metadata": {},
   "outputs": [],
   "source": [
    "# 38. So sánh chuỗi: kiểm tra các dòng có chứa từ 'Shipped' trong cột 'STATUS'\n",
    "sosanh = df['STATUS'].str.contains('Shipped')\n",
    "print(sosanh.head(5))"
   ]
  },
  {
   "cell_type": "code",
   "execution_count": null,
   "id": "2b8ef580",
   "metadata": {},
   "outputs": [],
   "source": [
    "# 39. Lấy giá trị trả về dưới dạng mảng (numpy array)\n",
    "status_values = df['STATUS'].values\n",
    "print(status_values)"
   ]
  },
  {
   "cell_type": "code",
   "execution_count": null,
   "id": "06bed0c3",
   "metadata": {},
   "outputs": [],
   "source": [
    "# 40. Thêm một cột mới vào DataFrame\n",
    "df_len = len(df)\n",
    "ngaylap = [random.randrange(2003, 2005, 1) for i in range(df_len)]\n",
    "df['ORDERDATE'] = ngaylap\n",
    "print(df.head(5))"
   ]
  },
  {
   "cell_type": "code",
   "execution_count": null,
   "id": "33be17fd",
   "metadata": {},
   "outputs": [],
   "source": [
    "# 41. Thêm một cột (Dagio) vào dữ liệu theo điều kiện: nếu 'STATUS' khác 'Shipped' thì True, ngược lại False\n",
    "df['DAGIAO'] = df['STATUS'] != 'Shipped'\n",
    "print(df.head(5))"
   ]
  },
  {
   "cell_type": "code",
   "execution_count": null,
   "id": "bd360f0e",
   "metadata": {},
   "outputs": [],
   "source": [
    "# 42. Tạo một cột mới có giá trị rỗng (None)\n",
    "df['TONGTIEN'] = None\n",
    "print(df.head())"
   ]
  },
  {
   "cell_type": "code",
   "execution_count": null,
   "id": "c8807072",
   "metadata": {},
   "outputs": [],
   "source": [
    "# 44. Sửa giá trị của cột\n",
    "df['QTR_ID'] = None\n",
    "df['QTR_ID'] = 'Quy'\n",
    "print(df.head(5))"
   ]
  },
  {
   "cell_type": "code",
   "execution_count": null,
   "id": "64183432",
   "metadata": {},
   "outputs": [],
   "source": [
    "# 45. Xóa cột trong DataFrame\n",
    "df.drop(['TONGTIEN'], axis=1, inplace=True)\n",
    "print(df.head(5))"
   ]
  },
  {
   "cell_type": "code",
   "execution_count": null,
   "id": "ac15a061",
   "metadata": {},
   "outputs": [],
   "source": [
    "# 46. Xóa bản ghi theo chỉ số (ví dụ: xóa bản ghi có chỉ số 0 và 1)\n",
    "df.drop([0, 1], inplace=True)\n",
    "print(df.head())"
   ]
  },
  {
   "cell_type": "code",
   "execution_count": null,
   "id": "3a933631",
   "metadata": {},
   "outputs": [],
   "source": [
    "# 47. Sử dụng hàm describe() để thống kê dữ liệu\n",
    "print(df.describe())"
   ]
  },
  {
   "cell_type": "code",
   "execution_count": null,
   "id": "49e9f821",
   "metadata": {},
   "outputs": [],
   "source": [
    "# 48. Xem thống kê trên từng giá trị của một cột\n",
    "print(df['STATUS'].value_counts())"
   ]
  },
  {
   "cell_type": "code",
   "execution_count": null,
   "id": "486ce712",
   "metadata": {},
   "outputs": [],
   "source": [
    "# 49. Vẽ biểu đồ phân bố giá trị của một trường trong DataFrame\n",
    "df['STATUS'].value_counts().plot(kind='bar')"
   ]
  },
  {
   "cell_type": "code",
   "execution_count": 73,
   "id": "871a061d",
   "metadata": {},
   "outputs": [
    {
     "name": "stdout",
     "output_type": "stream",
     "text": [
      "              name  age                     website\n",
      "0  Nguyễn Văn Hiếu   28  https://blog.luyencode.net\n",
      "1     Nguyễn Văn 1   28                        None\n",
      "                           txt  label\n",
      "0     chỗ này ăn cũng khá ngon      1\n",
      "1  ngon, nhất định sẽ quay lại      1\n",
      "2       thái độ phục vụ quá tệ      0\n"
     ]
    }
   ],
   "source": [
    "# 50. Tạo DataFrame từ các danh sách Python\n",
    "people = [{'name': 'Nguyễn Văn Hiếu', 'age': 28, 'website': 'https://blog.luyencode.net'}, \n",
    "          {'name': 'Nguyễn Văn 1', 'age': 28, 'website': None}]\n",
    "df1 = pd.DataFrame(people)\n",
    "print(df1)\n",
    "\n",
    "# Tạo DataFrame từ 2 list, với nhãn và giá trị tương ứng\n",
    "txts = ['chỗ này ăn cũng khá ngon', 'ngon, nhất định sẽ quay lại', 'thái độ phục vụ quá tệ']\n",
    "labels = [1, 1, 0]\n",
    "df1 = pd.DataFrame()\n",
    "df1['txt'] = txts\n",
    "df1['label'] = labels\n",
    "print(df1)"
   ]
  },
  {
   "cell_type": "code",
   "execution_count": null,
   "id": "1fcc191d",
   "metadata": {},
   "outputs": [],
   "source": [
    "# 51. Sắp xếp DataFrame theo một cột (ví dụ 'age') tăng dần\n",
    "df1 = pd.DataFrame({'name': ['Nam', 'Hiếu', 'Mai', 'Hoa'], 'age': [18, 18, 17, 19]})\n",
    "print('Before sort\\n', df1)\n",
    "df1 = df1.sort_values('age', ascending=True)\n",
    "print('After sort\\n', df1)"
   ]
  },
  {
   "cell_type": "code",
   "execution_count": null,
   "id": "d88c1d40",
   "metadata": {},
   "outputs": [],
   "source": [
    "# 52. Nối 2 DataFrame (gộp 2 DataFrame lại)\n",
    "df_1 = pd.DataFrame({'name': ['Hiếu'], 'age': [18], 'gender': ['male']})\n",
    "df_2 = pd.DataFrame({'name': ['Nam', 'Mai', 'Hoa'], 'age': [15, 17, 19]})\n",
    "df_3 = df_1.append(df_2, sort=True)\n",
    "print(df_3)"
   ]
  },
  {
   "cell_type": "code",
   "execution_count": null,
   "id": "6a721d63",
   "metadata": {},
   "outputs": [],
   "source": [
    "# 53. Xáo trộn các bản ghi trong DataFrame\n",
    "df1 = pd.DataFrame({'name': ['Hiếu', 'Nam', 'Mai', 'Hoa'], 'age': [18, 15, 17, 19]})\n",
    "print('Before shuffle\\n', df1)\n",
    "df1 = df1.sample(frac=1).reset_index(drop=True)  # frac=1 nghĩa là lấy toàn bộ dữ liệu, reset lại index\n",
    "print('After shuffle\\n', df1)"
   ]
  },
  {
   "cell_type": "code",
   "execution_count": null,
   "id": "cc044be1",
   "metadata": {},
   "outputs": [],
   "source": [
    "# 54. Lưu DataFrame về file CSV\n",
    "df1.to_csv('KHACHHANG.csv', index=False)  # index=False để không lưu chỉ số dòng vào file CSV"
   ]
  },
  {
   "cell_type": "code",
   "execution_count": 79,
   "id": "94c68c08",
   "metadata": {},
   "outputs": [],
   "source": [
    "# 55. Giảm bộ nhớ khi dùng pandas\n",
    "import numpy as np\n",
    "import pandas as pd\n",
    "\n",
    "def reduce_mem_usage(df):\n",
    "    \"\"\"\n",
    "    Hàm giảm dung lượng bộ nhớ của DataFrame bằng cách thay đổi kiểu dữ liệu các cột.\n",
    "    \"\"\"\n",
    "    start_mem = df.memory_usage().sum() / 1024**2\n",
    "    print(f'Memory usage of dataframe is {start_mem:.2f} MB')\n",
    "\n",
    "    for col in df.columns:\n",
    "        col_type = df[col].dtype\n",
    "\n",
    "        if col_type != object and 'datetime' not in str(col_type):\n",
    "            c_min = df[col].min()\n",
    "            c_max = df[col].max()\n",
    "\n",
    "            if str(col_type)[:3] == 'int':\n",
    "                if c_min > np.iinfo(np.int8).min and c_max < np.iinfo(np.int8).max:\n",
    "                    df[col] = df[col].astype(np.int8)\n",
    "                elif c_min > np.iinfo(np.int16).min and c_max < np.iinfo(np.int16).max:\n",
    "                    df[col] = df[col].astype(np.int16)\n",
    "                elif c_min > np.iinfo(np.int32).min and c_max < np.iinfo(np.int32).max:\n",
    "                    df[col] = df[col].astype(np.int32)\n",
    "                elif c_min > np.iinfo(np.int64).min and c_max < np.iinfo(np.int64).max:\n",
    "                    df[col] = df[col].astype(np.int64)\n",
    "            else:\n",
    "                if c_min > np.finfo(np.float16).min and c_max < np.finfo(np.float16).max:\n",
    "                    df[col] = df[col].astype(np.float16)\n",
    "                elif c_min > np.finfo(np.float32).min and c_max < np.finfo(np.float32).max:\n",
    "                    df[col] = df[col].astype(np.float32)\n",
    "                else:\n",
    "                    df[col] = df[col].astype(np.float64)\n",
    "        else:\n",
    "            if 'datetime' not in str(col_type):\n",
    "                df[col] = df[col].astype('category')\n",
    "            elif 'datetime' not in col_type.name:\n",
    "                df[col] = df[col].astype('category')\n",
    "\n",
    "        end_mem = df.memory_usage().sum() / 1024**2\n",
    "        print('Memory usage after optimization is: {:.2f} MB'.format(end_mem))\n",
    "        print('Decreased by {:.1f}%'.format(100 * (start_mem - end_mem) / start_mem))\n",
    "\n",
    "    return df"
   ]
  }
 ],
 "metadata": {
  "kernelspec": {
   "display_name": "base",
   "language": "python",
   "name": "python3"
  },
  "language_info": {
   "codemirror_mode": {
    "name": "ipython",
    "version": 3
   },
   "file_extension": ".py",
   "mimetype": "text/x-python",
   "name": "python",
   "nbconvert_exporter": "python",
   "pygments_lexer": "ipython3",
   "version": "3.8.5"
  }
 },
 "nbformat": 4,
 "nbformat_minor": 5
}
